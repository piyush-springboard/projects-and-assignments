{
 "cells": [
  {
   "cell_type": "markdown",
   "id": "6273db63",
   "metadata": {},
   "source": [
    "# Pre-processing and Training Data Development"
   ]
  },
  {
   "cell_type": "markdown",
   "id": "9f5e36d3",
   "metadata": {},
   "source": [
    "Create a cleaned development dataset that can be used to complete Modeling of this project"
   ]
  },
  {
   "cell_type": "code",
   "execution_count": 1,
   "id": "ddff2786",
   "metadata": {},
   "outputs": [],
   "source": [
    "# Import\n",
    "import numpy as np\n",
    "import pandas as pd\n",
    "pd.options.mode.chained_assignment = None  # default='warn'\n",
    "\n",
    "import os\n",
    "from sklearn.preprocessing import MaxAbsScaler\n",
    "import matplotlib.pyplot as plt\n",
    "\n",
    "#suppress future warnings\n",
    "import warnings\n",
    "warnings.simplefilter(action='ignore', category=FutureWarning)\n",
    "warnings.simplefilter(action='ignore', category=UserWarning)\n",
    "\n",
    "# Show plots inline\n",
    "%matplotlib inline\n",
    "\n",
    "import re\n",
    "import nltk\n",
    "from nltk.tokenize import word_tokenize\n",
    "from nltk.corpus import stopwords\n",
    "from nltk.stem import PorterStemmer\n",
    "import stem"
   ]
  },
  {
   "cell_type": "code",
   "execution_count": 2,
   "id": "4165767e",
   "metadata": {},
   "outputs": [
    {
     "data": {
      "text/plain": [
       "'C:\\\\Users\\\\piyus\\\\Desktop\\\\Guided Capstone-Springboard\\\\3Capstone 3-Tag Classification of Stackoverflow'"
      ]
     },
     "execution_count": 2,
     "metadata": {},
     "output_type": "execute_result"
    }
   ],
   "source": [
    "os.getcwd()"
   ]
  },
  {
   "cell_type": "code",
   "execution_count": 3,
   "id": "a69936bc",
   "metadata": {},
   "outputs": [
    {
     "data": {
      "text/plain": [
       "['.ipynb_checkpoints',\n",
       " 'data',\n",
       " 'Data Wrangling and Exploratory Data Analysis.ipynb',\n",
       " 'Pre-processing,Training Data Development and Modeling.ipynb',\n",
       " 'reports']"
      ]
     },
     "execution_count": 3,
     "metadata": {},
     "output_type": "execute_result"
    }
   ],
   "source": [
    "os.listdir()"
   ]
  },
  {
   "cell_type": "code",
   "execution_count": 4,
   "id": "83f765fa",
   "metadata": {},
   "outputs": [],
   "source": [
    "df = pd.read_csv(\".\\data\\Stackoverflow_cleaned.csv\")"
   ]
  },
  {
   "cell_type": "code",
   "execution_count": 5,
   "id": "871a29c1",
   "metadata": {},
   "outputs": [
    {
     "data": {
      "text/plain": [
       "(1455256, 9)"
      ]
     },
     "execution_count": 5,
     "metadata": {},
     "output_type": "execute_result"
    }
   ],
   "source": [
    "df.shape"
   ]
  },
  {
   "cell_type": "code",
   "execution_count": 6,
   "id": "c72ed21b",
   "metadata": {},
   "outputs": [
    {
     "data": {
      "text/html": [
       "<div>\n",
       "<style scoped>\n",
       "    .dataframe tbody tr th:only-of-type {\n",
       "        vertical-align: middle;\n",
       "    }\n",
       "\n",
       "    .dataframe tbody tr th {\n",
       "        vertical-align: top;\n",
       "    }\n",
       "\n",
       "    .dataframe thead th {\n",
       "        text-align: right;\n",
       "    }\n",
       "</style>\n",
       "<table border=\"1\" class=\"dataframe\">\n",
       "  <thead>\n",
       "    <tr style=\"text-align: right;\">\n",
       "      <th></th>\n",
       "      <th>Unnamed: 0</th>\n",
       "      <th>Q_Score</th>\n",
       "      <th>A_Score</th>\n",
       "      <th>Id</th>\n",
       "      <th>CreationYear</th>\n",
       "      <th>Title</th>\n",
       "      <th>Q_Body</th>\n",
       "      <th>Tag</th>\n",
       "      <th>A_Body</th>\n",
       "    </tr>\n",
       "  </thead>\n",
       "  <tbody>\n",
       "    <tr>\n",
       "      <th>274474</th>\n",
       "      <td>338828</td>\n",
       "      <td>0</td>\n",
       "      <td>2</td>\n",
       "      <td>7636160</td>\n",
       "      <td>2011</td>\n",
       "      <td>return function mathrandom</td>\n",
       "      <td>pwhat range of numbers seriously i got headach...</td>\n",
       "      <td>actionscript-3</td>\n",
       "      <td>integer 0 included mathrandom return value 0 1...</td>\n",
       "    </tr>\n",
       "    <tr>\n",
       "      <th>123108</th>\n",
       "      <td>151974</td>\n",
       "      <td>1</td>\n",
       "      <td>2</td>\n",
       "      <td>3603380</td>\n",
       "      <td>2010</td>\n",
       "      <td>target input 5 characters ent</td>\n",
       "      <td>pwhat i want to do is take an input for a zipc...</td>\n",
       "      <td>javascript, jquery, html</td>\n",
       "      <td>zip scenario zipkeypressfunction thisval ampam...</td>\n",
       "    </tr>\n",
       "    <tr>\n",
       "      <th>895284</th>\n",
       "      <td>1068710</td>\n",
       "      <td>-1</td>\n",
       "      <td>1</td>\n",
       "      <td>24388750</td>\n",
       "      <td>2014</td>\n",
       "      <td>powershell add header record</td>\n",
       "      <td>pi have a process in ssis where i create three...</td>\n",
       "      <td>powershell, append, prepend</td>\n",
       "      <td>something seems easy reality due underlying fi...</td>\n",
       "    </tr>\n",
       "    <tr>\n",
       "      <th>1450317</th>\n",
       "      <td>1695861</td>\n",
       "      <td>0</td>\n",
       "      <td>0</td>\n",
       "      <td>39998830</td>\n",
       "      <td>2016</td>\n",
       "      <td>untar subfolders folder linux</td>\n",
       "      <td>pi have a directory codelandsatdatacode which ...</td>\n",
       "      <td>linux, directory, tar</td>\n",
       "      <td>might parse filenames cd directories running t...</td>\n",
       "    </tr>\n",
       "    <tr>\n",
       "      <th>506737</th>\n",
       "      <td>616594</td>\n",
       "      <td>2</td>\n",
       "      <td>0</td>\n",
       "      <td>13775720</td>\n",
       "      <td>2012</td>\n",
       "      <td>use conditional operator incorrect</td>\n",
       "      <td>pi get a compilation error while trying to com...</td>\n",
       "      <td>java</td>\n",
       "      <td>adding jon skeet said ternary operator youre u...</td>\n",
       "    </tr>\n",
       "  </tbody>\n",
       "</table>\n",
       "</div>"
      ],
      "text/plain": [
       "         Unnamed: 0  Q_Score  A_Score        Id  CreationYear  \\\n",
       "274474       338828        0        2   7636160          2011   \n",
       "123108       151974        1        2   3603380          2010   \n",
       "895284      1068710       -1        1  24388750          2014   \n",
       "1450317     1695861        0        0  39998830          2016   \n",
       "506737       616594        2        0  13775720          2012   \n",
       "\n",
       "                                      Title  \\\n",
       "274474           return function mathrandom   \n",
       "123108        target input 5 characters ent   \n",
       "895284         powershell add header record   \n",
       "1450317       untar subfolders folder linux   \n",
       "506737   use conditional operator incorrect   \n",
       "\n",
       "                                                    Q_Body  \\\n",
       "274474   pwhat range of numbers seriously i got headach...   \n",
       "123108   pwhat i want to do is take an input for a zipc...   \n",
       "895284   pi have a process in ssis where i create three...   \n",
       "1450317  pi have a directory codelandsatdatacode which ...   \n",
       "506737   pi get a compilation error while trying to com...   \n",
       "\n",
       "                                 Tag  \\\n",
       "274474                actionscript-3   \n",
       "123108      javascript, jquery, html   \n",
       "895284   powershell, append, prepend   \n",
       "1450317        linux, directory, tar   \n",
       "506737                          java   \n",
       "\n",
       "                                                    A_Body  \n",
       "274474   integer 0 included mathrandom return value 0 1...  \n",
       "123108   zip scenario zipkeypressfunction thisval ampam...  \n",
       "895284   something seems easy reality due underlying fi...  \n",
       "1450317  might parse filenames cd directories running t...  \n",
       "506737   adding jon skeet said ternary operator youre u...  "
      ]
     },
     "execution_count": 6,
     "metadata": {},
     "output_type": "execute_result"
    }
   ],
   "source": [
    "df.sample(5)"
   ]
  },
  {
   "cell_type": "code",
   "execution_count": 7,
   "id": "7bbd0415",
   "metadata": {},
   "outputs": [
    {
     "data": {
      "text/plain": [
       "java                                                       11384\n",
       "javascript, jquery                                         10894\n",
       "android                                                     9931\n",
       "javascript                                                  9756\n",
       "php                                                         9680\n",
       "                                                           ...  \n",
       "javascript, java, android, cordova, angularjs-directive        1\n",
       "c#, wcf, proxy-classes, endpoints, multiple-projects           1\n",
       "java, caching, java-ee, webpage, ehcache                       1\n",
       "python, c++, qt, user-interface, fortran                       1\n",
       "search, lucene, full-text-search                               1\n",
       "Name: Tag, Length: 511517, dtype: int64"
      ]
     },
     "execution_count": 7,
     "metadata": {},
     "output_type": "execute_result"
    }
   ],
   "source": [
    "df.Tag.value_counts()"
   ]
  },
  {
   "cell_type": "code",
   "execution_count": 8,
   "id": "b7fb115d",
   "metadata": {},
   "outputs": [
    {
     "name": "stderr",
     "output_type": "stream",
     "text": [
      "[nltk_data] Downloading package stopwords to\n",
      "[nltk_data]     C:\\Users\\piyus\\AppData\\Roaming\\nltk_data...\n",
      "[nltk_data]   Package stopwords is already up-to-date!\n",
      "[nltk_data] Downloading package punkt to\n",
      "[nltk_data]     C:\\Users\\piyus\\AppData\\Roaming\\nltk_data...\n",
      "[nltk_data]   Package punkt is already up-to-date!\n"
     ]
    }
   ],
   "source": [
    "stop_words = stopwords.words('english')\n",
    "nltk.download('stopwords')\n",
    "nltk.download('punkt')\n",
    "\n",
    "stemmer = PorterStemmer()"
   ]
  },
  {
   "cell_type": "code",
   "execution_count": 9,
   "id": "016ccd59",
   "metadata": {},
   "outputs": [
    {
     "data": {
      "text/plain": [
       "1455256"
      ]
     },
     "execution_count": 9,
     "metadata": {},
     "output_type": "execute_result"
    }
   ],
   "source": [
    "def stem_sentences(sentence):\n",
    "    tokens = sentence.split()\n",
    "    stemmed_tokens = [stemmer.stem(token) for token in tokens if len(token) < 20 ]\n",
    "    return ' '.join(stemmed_tokens)\n",
    "\n",
    "df['Q_Body'] = df['Q_Body'].apply(stem_sentences)\n",
    "df['A_Body'] = df['A_Body'].apply(stem_sentences)\n",
    "df.shape[0]"
   ]
  },
  {
   "cell_type": "code",
   "execution_count": 10,
   "id": "3ce364e9",
   "metadata": {},
   "outputs": [
    {
     "data": {
      "text/plain": [
       "Unnamed: 0       int64\n",
       "Q_Score          int64\n",
       "A_Score          int64\n",
       "Id               int64\n",
       "CreationYear     int64\n",
       "Title           object\n",
       "Q_Body          object\n",
       "Tag             object\n",
       "A_Body          object\n",
       "dtype: object"
      ]
     },
     "execution_count": 10,
     "metadata": {},
     "output_type": "execute_result"
    }
   ],
   "source": [
    "df.dtypes"
   ]
  },
  {
   "cell_type": "code",
   "execution_count": 11,
   "id": "92a83815",
   "metadata": {},
   "outputs": [
    {
     "data": {
      "text/html": [
       "<div>\n",
       "<style scoped>\n",
       "    .dataframe tbody tr th:only-of-type {\n",
       "        vertical-align: middle;\n",
       "    }\n",
       "\n",
       "    .dataframe tbody tr th {\n",
       "        vertical-align: top;\n",
       "    }\n",
       "\n",
       "    .dataframe thead th {\n",
       "        text-align: right;\n",
       "    }\n",
       "</style>\n",
       "<table border=\"1\" class=\"dataframe\">\n",
       "  <thead>\n",
       "    <tr style=\"text-align: right;\">\n",
       "      <th></th>\n",
       "      <th>Unnamed: 0</th>\n",
       "      <th>Q_Score</th>\n",
       "      <th>A_Score</th>\n",
       "      <th>Id</th>\n",
       "      <th>CreationYear</th>\n",
       "      <th>Title</th>\n",
       "      <th>Q_Body</th>\n",
       "      <th>Tag</th>\n",
       "      <th>A_Body</th>\n",
       "    </tr>\n",
       "  </thead>\n",
       "  <tbody>\n",
       "    <tr>\n",
       "      <th>0</th>\n",
       "      <td>0</td>\n",
       "      <td>7</td>\n",
       "      <td>1</td>\n",
       "      <td>2750</td>\n",
       "      <td>2008</td>\n",
       "      <td>data verifications gettersetter elsewher</td>\n",
       "      <td>pim wonder if it a good idea to make in strong...</td>\n",
       "      <td>optimization, setter, getter, verification</td>\n",
       "      <td>valid captur separ getter setter valid method ...</td>\n",
       "    </tr>\n",
       "    <tr>\n",
       "      <th>1</th>\n",
       "      <td>1</td>\n",
       "      <td>7</td>\n",
       "      <td>3</td>\n",
       "      <td>2750</td>\n",
       "      <td>2008</td>\n",
       "      <td>data verifications gettersetter elsewher</td>\n",
       "      <td>pim wonder if it a good idea to make in strong...</td>\n",
       "      <td>optimization, setter, getter, verification</td>\n",
       "      <td>perspect maintain code think much valid setter...</td>\n",
       "    </tr>\n",
       "    <tr>\n",
       "      <th>2</th>\n",
       "      <td>2</td>\n",
       "      <td>7</td>\n",
       "      <td>3</td>\n",
       "      <td>2750</td>\n",
       "      <td>2008</td>\n",
       "      <td>data verifications gettersetter elsewher</td>\n",
       "      <td>pim wonder if it a good idea to make in strong...</td>\n",
       "      <td>optimization, setter, getter, verification</td>\n",
       "      <td>depend gener code fail fast valu set multipl p...</td>\n",
       "    </tr>\n",
       "    <tr>\n",
       "      <th>3</th>\n",
       "      <td>3</td>\n",
       "      <td>7</td>\n",
       "      <td>1</td>\n",
       "      <td>2750</td>\n",
       "      <td>2008</td>\n",
       "      <td>data verifications gettersetter elsewher</td>\n",
       "      <td>pim wonder if it a good idea to make in strong...</td>\n",
       "      <td>optimization, setter, getter, verification</td>\n",
       "      <td>might wanna check domain driven design eric ev...</td>\n",
       "    </tr>\n",
       "    <tr>\n",
       "      <th>4</th>\n",
       "      <td>4</td>\n",
       "      <td>7</td>\n",
       "      <td>1</td>\n",
       "      <td>2750</td>\n",
       "      <td>2008</td>\n",
       "      <td>data verifications gettersetter elsewher</td>\n",
       "      <td>pim wonder if it a good idea to make in strong...</td>\n",
       "      <td>optimization, setter, getter, verification</td>\n",
       "      <td>like implement idataerrorinfo put valid logic ...</td>\n",
       "    </tr>\n",
       "  </tbody>\n",
       "</table>\n",
       "</div>"
      ],
      "text/plain": [
       "   Unnamed: 0  Q_Score  A_Score    Id  CreationYear  \\\n",
       "0           0        7        1  2750          2008   \n",
       "1           1        7        3  2750          2008   \n",
       "2           2        7        3  2750          2008   \n",
       "3           3        7        1  2750          2008   \n",
       "4           4        7        1  2750          2008   \n",
       "\n",
       "                                      Title  \\\n",
       "0  data verifications gettersetter elsewher   \n",
       "1  data verifications gettersetter elsewher   \n",
       "2  data verifications gettersetter elsewher   \n",
       "3  data verifications gettersetter elsewher   \n",
       "4  data verifications gettersetter elsewher   \n",
       "\n",
       "                                              Q_Body  \\\n",
       "0  pim wonder if it a good idea to make in strong...   \n",
       "1  pim wonder if it a good idea to make in strong...   \n",
       "2  pim wonder if it a good idea to make in strong...   \n",
       "3  pim wonder if it a good idea to make in strong...   \n",
       "4  pim wonder if it a good idea to make in strong...   \n",
       "\n",
       "                                          Tag  \\\n",
       "0  optimization, setter, getter, verification   \n",
       "1  optimization, setter, getter, verification   \n",
       "2  optimization, setter, getter, verification   \n",
       "3  optimization, setter, getter, verification   \n",
       "4  optimization, setter, getter, verification   \n",
       "\n",
       "                                              A_Body  \n",
       "0  valid captur separ getter setter valid method ...  \n",
       "1  perspect maintain code think much valid setter...  \n",
       "2  depend gener code fail fast valu set multipl p...  \n",
       "3  might wanna check domain driven design eric ev...  \n",
       "4  like implement idataerrorinfo put valid logic ...  "
      ]
     },
     "execution_count": 11,
     "metadata": {},
     "output_type": "execute_result"
    }
   ],
   "source": [
    "df.head()"
   ]
  },
  {
   "cell_type": "markdown",
   "id": "6b0502d9",
   "metadata": {},
   "source": [
    "__1. Standardize the magnitude of numeric features using a scaler__"
   ]
  },
  {
   "cell_type": "code",
   "execution_count": 12,
   "id": "9be24c66",
   "metadata": {},
   "outputs": [
    {
     "name": "stdout",
     "output_type": "stream",
     "text": [
      "Index(['Unnamed: 0', 'Q_Score', 'A_Score', 'Id', 'CreationYear'], dtype='object')\n"
     ]
    }
   ],
   "source": [
    "# Create subset of only Numeric columns\n",
    "df_numeric = df.select_dtypes(include=['int64','float'])\n",
    "print(df_numeric.columns)"
   ]
  },
  {
   "cell_type": "code",
   "execution_count": 13,
   "id": "dee3eb3b",
   "metadata": {},
   "outputs": [
    {
     "name": "stdout",
     "output_type": "stream",
     "text": [
      "Index(['Title', 'Q_Body', 'Tag', 'A_Body'], dtype='object')\n"
     ]
    }
   ],
   "source": [
    "# Create subset of only Categorical variable columns\n",
    "df_categorical = df.select_dtypes(include=['object'])\n",
    "print(df_categorical.columns)"
   ]
  },
  {
   "cell_type": "code",
   "execution_count": 14,
   "id": "7022a09b",
   "metadata": {},
   "outputs": [
    {
     "data": {
      "text/html": [
       "<div>\n",
       "<style scoped>\n",
       "    .dataframe tbody tr th:only-of-type {\n",
       "        vertical-align: middle;\n",
       "    }\n",
       "\n",
       "    .dataframe tbody tr th {\n",
       "        vertical-align: top;\n",
       "    }\n",
       "\n",
       "    .dataframe thead th {\n",
       "        text-align: right;\n",
       "    }\n",
       "</style>\n",
       "<table border=\"1\" class=\"dataframe\">\n",
       "  <thead>\n",
       "    <tr style=\"text-align: right;\">\n",
       "      <th></th>\n",
       "      <th>Q_Score</th>\n",
       "      <th>A_Score</th>\n",
       "    </tr>\n",
       "  </thead>\n",
       "  <tbody>\n",
       "    <tr>\n",
       "      <th>count</th>\n",
       "      <td>1.455256e+06</td>\n",
       "      <td>1.455256e+06</td>\n",
       "    </tr>\n",
       "    <tr>\n",
       "      <th>mean</th>\n",
       "      <td>9.834283e-01</td>\n",
       "      <td>1.038645e+00</td>\n",
       "    </tr>\n",
       "    <tr>\n",
       "      <th>std</th>\n",
       "      <td>1.674261e+00</td>\n",
       "      <td>1.273146e+00</td>\n",
       "    </tr>\n",
       "    <tr>\n",
       "      <th>min</th>\n",
       "      <td>-4.000000e+00</td>\n",
       "      <td>-3.000000e+00</td>\n",
       "    </tr>\n",
       "    <tr>\n",
       "      <th>25%</th>\n",
       "      <td>0.000000e+00</td>\n",
       "      <td>0.000000e+00</td>\n",
       "    </tr>\n",
       "    <tr>\n",
       "      <th>50%</th>\n",
       "      <td>1.000000e+00</td>\n",
       "      <td>1.000000e+00</td>\n",
       "    </tr>\n",
       "    <tr>\n",
       "      <th>75%</th>\n",
       "      <td>2.000000e+00</td>\n",
       "      <td>2.000000e+00</td>\n",
       "    </tr>\n",
       "    <tr>\n",
       "      <th>max</th>\n",
       "      <td>7.000000e+00</td>\n",
       "      <td>5.000000e+00</td>\n",
       "    </tr>\n",
       "  </tbody>\n",
       "</table>\n",
       "</div>"
      ],
      "text/plain": [
       "            Q_Score       A_Score\n",
       "count  1.455256e+06  1.455256e+06\n",
       "mean   9.834283e-01  1.038645e+00\n",
       "std    1.674261e+00  1.273146e+00\n",
       "min   -4.000000e+00 -3.000000e+00\n",
       "25%    0.000000e+00  0.000000e+00\n",
       "50%    1.000000e+00  1.000000e+00\n",
       "75%    2.000000e+00  2.000000e+00\n",
       "max    7.000000e+00  5.000000e+00"
      ]
     },
     "execution_count": 14,
     "metadata": {},
     "output_type": "execute_result"
    }
   ],
   "source": [
    "df_numeric[['Q_Score','A_Score']].describe()"
   ]
  },
  {
   "cell_type": "code",
   "execution_count": 15,
   "id": "1a140ce6",
   "metadata": {},
   "outputs": [
    {
     "name": "stdout",
     "output_type": "stream",
     "text": [
      "   Q_Score_scaled  A_Score_scaled\n",
      "0             1.0             0.2\n",
      "1             1.0             0.6\n",
      "2             1.0             0.6\n",
      "3             1.0             0.2\n",
      "4             1.0             0.2\n"
     ]
    }
   ],
   "source": [
    "# Instantiate StandardScaler to generate absolute values that are mapped in the range [0, 1].\n",
    "# This is optional step for our dataset since there are not many outliers, however, this condenses data even better\n",
    "\n",
    "scaler = MaxAbsScaler()\n",
    "\n",
    "# Fit SS_scaler to the data\n",
    "scaler.fit(df_numeric[['Q_Score','A_Score']])\n",
    "\n",
    "# Transform the data using the fitted scaler\n",
    "df_numeric[['Q_Score_scaled','A_Score_scaled']] = scaler.transform(df_numeric[['Q_Score','A_Score']])\n",
    "\n",
    "# Compare the origional and transformed column\n",
    "print(df_numeric[['Q_Score_scaled','A_Score_scaled']].head())"
   ]
  },
  {
   "cell_type": "code",
   "execution_count": 16,
   "id": "67cc4235",
   "metadata": {},
   "outputs": [
    {
     "data": {
      "image/png": "[encoded data removed]",
      "text/plain": [
       "<Figure size 720x360 with 2 Axes>"
      ]
     },
     "metadata": {
      "needs_background": "light"
     },
     "output_type": "display_data"
    }
   ],
   "source": [
    "# Create a histogram\n",
    "plt.rcParams[\"figure.figsize\"] = (10,5)\n",
    "\n",
    "df_numeric.hist(['Q_Score_scaled','A_Score_scaled'])\n",
    "plt.show()"
   ]
  },
  {
   "cell_type": "code",
   "execution_count": 17,
   "id": "3750f969",
   "metadata": {},
   "outputs": [
    {
     "data": {
      "text/html": [
       "<div>\n",
       "<style scoped>\n",
       "    .dataframe tbody tr th:only-of-type {\n",
       "        vertical-align: middle;\n",
       "    }\n",
       "\n",
       "    .dataframe tbody tr th {\n",
       "        vertical-align: top;\n",
       "    }\n",
       "\n",
       "    .dataframe thead th {\n",
       "        text-align: right;\n",
       "    }\n",
       "</style>\n",
       "<table border=\"1\" class=\"dataframe\">\n",
       "  <thead>\n",
       "    <tr style=\"text-align: right;\">\n",
       "      <th></th>\n",
       "      <th>Q_Score_scaled</th>\n",
       "      <th>A_Score_scaled</th>\n",
       "    </tr>\n",
       "  </thead>\n",
       "  <tbody>\n",
       "    <tr>\n",
       "      <th>count</th>\n",
       "      <td>1.455256e+06</td>\n",
       "      <td>1.455256e+06</td>\n",
       "    </tr>\n",
       "    <tr>\n",
       "      <th>mean</th>\n",
       "      <td>1.404898e-01</td>\n",
       "      <td>2.077289e-01</td>\n",
       "    </tr>\n",
       "    <tr>\n",
       "      <th>std</th>\n",
       "      <td>2.391802e-01</td>\n",
       "      <td>2.546291e-01</td>\n",
       "    </tr>\n",
       "    <tr>\n",
       "      <th>min</th>\n",
       "      <td>-5.714286e-01</td>\n",
       "      <td>-6.000000e-01</td>\n",
       "    </tr>\n",
       "    <tr>\n",
       "      <th>25%</th>\n",
       "      <td>0.000000e+00</td>\n",
       "      <td>0.000000e+00</td>\n",
       "    </tr>\n",
       "    <tr>\n",
       "      <th>50%</th>\n",
       "      <td>1.428571e-01</td>\n",
       "      <td>2.000000e-01</td>\n",
       "    </tr>\n",
       "    <tr>\n",
       "      <th>75%</th>\n",
       "      <td>2.857143e-01</td>\n",
       "      <td>4.000000e-01</td>\n",
       "    </tr>\n",
       "    <tr>\n",
       "      <th>max</th>\n",
       "      <td>1.000000e+00</td>\n",
       "      <td>1.000000e+00</td>\n",
       "    </tr>\n",
       "  </tbody>\n",
       "</table>\n",
       "</div>"
      ],
      "text/plain": [
       "       Q_Score_scaled  A_Score_scaled\n",
       "count    1.455256e+06    1.455256e+06\n",
       "mean     1.404898e-01    2.077289e-01\n",
       "std      2.391802e-01    2.546291e-01\n",
       "min     -5.714286e-01   -6.000000e-01\n",
       "25%      0.000000e+00    0.000000e+00\n",
       "50%      1.428571e-01    2.000000e-01\n",
       "75%      2.857143e-01    4.000000e-01\n",
       "max      1.000000e+00    1.000000e+00"
      ]
     },
     "execution_count": 17,
     "metadata": {},
     "output_type": "execute_result"
    }
   ],
   "source": [
    "df_numeric[['Q_Score_scaled','A_Score_scaled']].describe()"
   ]
  },
  {
   "cell_type": "code",
   "execution_count": 19,
   "id": "01bebc8c",
   "metadata": {},
   "outputs": [
    {
     "data": {
      "text/html": [
       "<div>\n",
       "<style scoped>\n",
       "    .dataframe tbody tr th:only-of-type {\n",
       "        vertical-align: middle;\n",
       "    }\n",
       "\n",
       "    .dataframe tbody tr th {\n",
       "        vertical-align: top;\n",
       "    }\n",
       "\n",
       "    .dataframe thead th {\n",
       "        text-align: right;\n",
       "    }\n",
       "</style>\n",
       "<table border=\"1\" class=\"dataframe\">\n",
       "  <thead>\n",
       "    <tr style=\"text-align: right;\">\n",
       "      <th></th>\n",
       "      <th>Title</th>\n",
       "      <th>Q_Body</th>\n",
       "      <th>Tag</th>\n",
       "      <th>A_Body</th>\n",
       "      <th>Unnamed: 0</th>\n",
       "      <th>Q_Score</th>\n",
       "      <th>A_Score</th>\n",
       "      <th>Id</th>\n",
       "      <th>CreationYear</th>\n",
       "      <th>Q_Score_scaled</th>\n",
       "      <th>A_Score_scaled</th>\n",
       "    </tr>\n",
       "  </thead>\n",
       "  <tbody>\n",
       "    <tr>\n",
       "      <th>0</th>\n",
       "      <td>data verifications gettersetter elsewher</td>\n",
       "      <td>pim wonder if it a good idea to make in strong...</td>\n",
       "      <td>optimization, setter, getter, verification</td>\n",
       "      <td>valid captur separ getter setter valid method ...</td>\n",
       "      <td>0</td>\n",
       "      <td>7</td>\n",
       "      <td>1</td>\n",
       "      <td>2750</td>\n",
       "      <td>2008</td>\n",
       "      <td>1.0</td>\n",
       "      <td>0.2</td>\n",
       "    </tr>\n",
       "    <tr>\n",
       "      <th>1</th>\n",
       "      <td>data verifications gettersetter elsewher</td>\n",
       "      <td>pim wonder if it a good idea to make in strong...</td>\n",
       "      <td>optimization, setter, getter, verification</td>\n",
       "      <td>perspect maintain code think much valid setter...</td>\n",
       "      <td>1</td>\n",
       "      <td>7</td>\n",
       "      <td>3</td>\n",
       "      <td>2750</td>\n",
       "      <td>2008</td>\n",
       "      <td>1.0</td>\n",
       "      <td>0.6</td>\n",
       "    </tr>\n",
       "    <tr>\n",
       "      <th>2</th>\n",
       "      <td>data verifications gettersetter elsewher</td>\n",
       "      <td>pim wonder if it a good idea to make in strong...</td>\n",
       "      <td>optimization, setter, getter, verification</td>\n",
       "      <td>depend gener code fail fast valu set multipl p...</td>\n",
       "      <td>2</td>\n",
       "      <td>7</td>\n",
       "      <td>3</td>\n",
       "      <td>2750</td>\n",
       "      <td>2008</td>\n",
       "      <td>1.0</td>\n",
       "      <td>0.6</td>\n",
       "    </tr>\n",
       "    <tr>\n",
       "      <th>3</th>\n",
       "      <td>data verifications gettersetter elsewher</td>\n",
       "      <td>pim wonder if it a good idea to make in strong...</td>\n",
       "      <td>optimization, setter, getter, verification</td>\n",
       "      <td>might wanna check domain driven design eric ev...</td>\n",
       "      <td>3</td>\n",
       "      <td>7</td>\n",
       "      <td>1</td>\n",
       "      <td>2750</td>\n",
       "      <td>2008</td>\n",
       "      <td>1.0</td>\n",
       "      <td>0.2</td>\n",
       "    </tr>\n",
       "    <tr>\n",
       "      <th>4</th>\n",
       "      <td>data verifications gettersetter elsewher</td>\n",
       "      <td>pim wonder if it a good idea to make in strong...</td>\n",
       "      <td>optimization, setter, getter, verification</td>\n",
       "      <td>like implement idataerrorinfo put valid logic ...</td>\n",
       "      <td>4</td>\n",
       "      <td>7</td>\n",
       "      <td>1</td>\n",
       "      <td>2750</td>\n",
       "      <td>2008</td>\n",
       "      <td>1.0</td>\n",
       "      <td>0.2</td>\n",
       "    </tr>\n",
       "  </tbody>\n",
       "</table>\n",
       "</div>"
      ],
      "text/plain": [
       "                                      Title  \\\n",
       "0  data verifications gettersetter elsewher   \n",
       "1  data verifications gettersetter elsewher   \n",
       "2  data verifications gettersetter elsewher   \n",
       "3  data verifications gettersetter elsewher   \n",
       "4  data verifications gettersetter elsewher   \n",
       "\n",
       "                                              Q_Body  \\\n",
       "0  pim wonder if it a good idea to make in strong...   \n",
       "1  pim wonder if it a good idea to make in strong...   \n",
       "2  pim wonder if it a good idea to make in strong...   \n",
       "3  pim wonder if it a good idea to make in strong...   \n",
       "4  pim wonder if it a good idea to make in strong...   \n",
       "\n",
       "                                          Tag  \\\n",
       "0  optimization, setter, getter, verification   \n",
       "1  optimization, setter, getter, verification   \n",
       "2  optimization, setter, getter, verification   \n",
       "3  optimization, setter, getter, verification   \n",
       "4  optimization, setter, getter, verification   \n",
       "\n",
       "                                              A_Body  Unnamed: 0  Q_Score  \\\n",
       "0  valid captur separ getter setter valid method ...           0        7   \n",
       "1  perspect maintain code think much valid setter...           1        7   \n",
       "2  depend gener code fail fast valu set multipl p...           2        7   \n",
       "3  might wanna check domain driven design eric ev...           3        7   \n",
       "4  like implement idataerrorinfo put valid logic ...           4        7   \n",
       "\n",
       "   A_Score    Id  CreationYear  Q_Score_scaled  A_Score_scaled  \n",
       "0        1  2750          2008             1.0             0.2  \n",
       "1        3  2750          2008             1.0             0.6  \n",
       "2        3  2750          2008             1.0             0.6  \n",
       "3        1  2750          2008             1.0             0.2  \n",
       "4        1  2750          2008             1.0             0.2  "
      ]
     },
     "execution_count": 19,
     "metadata": {},
     "output_type": "execute_result"
    }
   ],
   "source": [
    "df_numeric_scaled = pd.concat([df_categorical, df_numeric], axis=1, sort=False)\n",
    "df_numeric_scaled.head()"
   ]
  },
  {
   "cell_type": "code",
   "execution_count": 20,
   "id": "24902f3a",
   "metadata": {},
   "outputs": [
    {
     "name": "stdout",
     "output_type": "stream",
     "text": [
      "<class 'pandas.core.frame.DataFrame'>\n",
      "RangeIndex: 1455256 entries, 0 to 1455255\n",
      "Data columns (total 11 columns):\n",
      " #   Column          Non-Null Count    Dtype  \n",
      "---  ------          --------------    -----  \n",
      " 0   Title           1455256 non-null  object \n",
      " 1   Q_Body          1455256 non-null  object \n",
      " 2   Tag             1455253 non-null  object \n",
      " 3   A_Body          1455256 non-null  object \n",
      " 4   Unnamed: 0      1455256 non-null  int64  \n",
      " 5   Q_Score         1455256 non-null  int64  \n",
      " 6   A_Score         1455256 non-null  int64  \n",
      " 7   Id              1455256 non-null  int64  \n",
      " 8   CreationYear    1455256 non-null  int64  \n",
      " 9   Q_Score_scaled  1455256 non-null  float64\n",
      " 10  A_Score_scaled  1455256 non-null  float64\n",
      "dtypes: float64(2), int64(5), object(4)\n",
      "memory usage: 122.1+ MB\n"
     ]
    }
   ],
   "source": [
    "df_numeric_scaled.info()"
   ]
  },
  {
   "cell_type": "code",
   "execution_count": 21,
   "id": "4c40e4c6",
   "metadata": {},
   "outputs": [
    {
     "name": "stdout",
     "output_type": "stream",
     "text": [
      "                                              Q_Body  \\\n",
      "0  pim wonder if it a good idea to make in strong...   \n",
      "1  pim wonder if it a good idea to make in strong...   \n",
      "2  pim wonder if it a good idea to make in strong...   \n",
      "3  pim wonder if it a good idea to make in strong...   \n",
      "4  pim wonder if it a good idea to make in strong...   \n",
      "\n",
      "                                          Tag  CreationYear  \n",
      "0  optimization, setter, getter, verification          2008  \n",
      "1  optimization, setter, getter, verification          2008  \n",
      "2  optimization, setter, getter, verification          2008  \n",
      "3  optimization, setter, getter, verification          2008  \n",
      "4  optimization, setter, getter, verification          2008  \n"
     ]
    }
   ],
   "source": [
    "df_question = df_numeric_scaled.drop(columns=['Title', 'A_Body', 'Unnamed: 0', 'Id', 'Q_Score_scaled','A_Score_scaled','Q_Score','A_Score'])\n",
    "print(df_question.head())"
   ]
  },
  {
   "cell_type": "markdown",
   "id": "2a6e10e6",
   "metadata": {},
   "source": [
    "__2. Split Tag column into multiple columns delimited by comma (',')__"
   ]
  },
  {
   "cell_type": "code",
   "execution_count": 22,
   "id": "6750b8e1",
   "metadata": {},
   "outputs": [],
   "source": [
    "df_question_tag_split = df_question['Tag'].str.split(',').apply(pd.Series)"
   ]
  },
  {
   "cell_type": "code",
   "execution_count": 23,
   "id": "48959b64",
   "metadata": {},
   "outputs": [
    {
     "data": {
      "text/html": [
       "<div>\n",
       "<style scoped>\n",
       "    .dataframe tbody tr th:only-of-type {\n",
       "        vertical-align: middle;\n",
       "    }\n",
       "\n",
       "    .dataframe tbody tr th {\n",
       "        vertical-align: top;\n",
       "    }\n",
       "\n",
       "    .dataframe thead th {\n",
       "        text-align: right;\n",
       "    }\n",
       "</style>\n",
       "<table border=\"1\" class=\"dataframe\">\n",
       "  <thead>\n",
       "    <tr style=\"text-align: right;\">\n",
       "      <th></th>\n",
       "      <th>0</th>\n",
       "      <th>1</th>\n",
       "      <th>2</th>\n",
       "      <th>3</th>\n",
       "      <th>4</th>\n",
       "    </tr>\n",
       "  </thead>\n",
       "  <tbody>\n",
       "    <tr>\n",
       "      <th>0</th>\n",
       "      <td>optimization</td>\n",
       "      <td>setter</td>\n",
       "      <td>getter</td>\n",
       "      <td>verification</td>\n",
       "      <td>0</td>\n",
       "    </tr>\n",
       "    <tr>\n",
       "      <th>7</th>\n",
       "      <td>windows</td>\n",
       "      <td>64bit</td>\n",
       "      <td>wmi</td>\n",
       "      <td>0</td>\n",
       "      <td>0</td>\n",
       "    </tr>\n",
       "  </tbody>\n",
       "</table>\n",
       "</div>"
      ],
      "text/plain": [
       "              0        1        2              3  4\n",
       "0  optimization   setter   getter   verification  0\n",
       "7       windows    64bit      wmi              0  0"
      ]
     },
     "execution_count": 23,
     "metadata": {},
     "output_type": "execute_result"
    }
   ],
   "source": [
    "df_question_tags = df_question_tag_split.replace(np.nan,0).drop_duplicates()\n",
    "df_question_tags.head(2)"
   ]
  },
  {
   "cell_type": "code",
   "execution_count": 24,
   "id": "a4da3853",
   "metadata": {},
   "outputs": [
    {
     "name": "stdout",
     "output_type": "stream",
     "text": [
      "511518 1455256\n"
     ]
    }
   ],
   "source": [
    "print(df_question_tags.shape[0], df_question.shape[0])"
   ]
  },
  {
   "cell_type": "code",
   "execution_count": 25,
   "id": "ab480cbe",
   "metadata": {},
   "outputs": [
    {
     "data": {
      "text/plain": [
       "1455256"
      ]
     },
     "execution_count": 25,
     "metadata": {},
     "output_type": "execute_result"
    }
   ],
   "source": [
    "df_merged = pd.concat([df_question, df_question_tags], axis = 1, sort=False)\n",
    "df_merged.shape[0]"
   ]
  },
  {
   "cell_type": "code",
   "execution_count": 26,
   "id": "42201831",
   "metadata": {},
   "outputs": [],
   "source": [
    "df_merged = df_merged.drop_duplicates().dropna()"
   ]
  },
  {
   "cell_type": "code",
   "execution_count": 27,
   "id": "b9d971cd",
   "metadata": {},
   "outputs": [
    {
     "data": {
      "text/plain": [
       "511517"
      ]
     },
     "execution_count": 27,
     "metadata": {},
     "output_type": "execute_result"
    }
   ],
   "source": [
    "df_merged.shape[0]"
   ]
  },
  {
   "cell_type": "code",
   "execution_count": 28,
   "id": "f21bf9ba",
   "metadata": {},
   "outputs": [
    {
     "name": "stdout",
     "output_type": "stream",
     "text": [
      "511517                                                Q_Body  CreationYear  \\\n",
      "0   pim wonder if it a good idea to make in strong...          2008   \n",
      "7   pive been work on a project that access the wm...          2008   \n",
      "9   pive been task with redesign part of a mssql d...          2008   \n",
      "13  pi it accept to have an strongaspnet 20strong ...          2008   \n",
      "18  pi have a situat where i want to add hour to a...          2008   \n",
      "\n",
      "            Tag1                   Tag2               Tag3           Tag4 Tag5  \n",
      "0   optimization                 setter             getter   verification    0  \n",
      "7        windows                  64bit                wmi              0    0  \n",
      "9            sql             sql-server           database        diagram    0  \n",
      "13       asp.net   business-logic-layer   objectdatasource              0    0  \n",
      "18        vb.net                   date                  0              0    0  \n"
     ]
    }
   ],
   "source": [
    "df_merged = df_merged.rename(columns={0:'Tag1',1:'Tag2',2:'Tag3',3:'Tag4',4:'Tag5'}).drop(columns={'Tag'})\n",
    "print(df_merged.shape[0], df_merged.head())"
   ]
  },
  {
   "cell_type": "markdown",
   "id": "5ad2596b",
   "metadata": {},
   "source": [
    " __3. Perform TF-IDF on Categorical features (columns) to fit and transform data__\n",
    " - We also want a measure of how unique a word is i.e. how infrequently the word occurs across all documents (inverse document frequency or idf). So, the product of tf & idf (TF-IDF) of a word gives a product of how frequent this word is in the document multiplied by how unique the word is w.r.t. the entire corpus of documents.\n",
    " - Words in the document with a high tfidf score occur frequently in the document and provide the most information about that specific document.\n",
    " \n",
    " __TFIDF on:__\n",
    " - Question body and Tags\n",
    " \n",
    " Furthermore, create dataframes with the vectorized values before performing Modeling step"
   ]
  },
  {
   "cell_type": "code",
   "execution_count": 29,
   "id": "6a9e9d4c",
   "metadata": {},
   "outputs": [],
   "source": [
    "from sklearn.model_selection import train_test_split\n",
    "from sklearn.feature_extraction.text import TfidfVectorizer\n",
    "\n",
    "#vectorizer = TfidfVectorizer(strip_accents='unicode', analyzer='word', ngram_range=(1,3), norm='l2')\n",
    "vectorizer = TfidfVectorizer(max_features=200, ngram_range=(1, 1), stop_words = 'english')"
   ]
  },
  {
   "cell_type": "code",
   "execution_count": 30,
   "id": "344cfee5",
   "metadata": {},
   "outputs": [
    {
     "name": "stdout",
     "output_type": "stream",
     "text": [
      "         10  abl    access       ad      add       ani  anoth     anyon  app  \\\n",
      "0  0.000000  0.0  0.000000  0.00000  0.00000  0.000000    0.0  0.000000  0.0   \n",
      "1  0.131992  0.0  0.122329  0.00000  0.00000  0.000000    0.0  0.000000  0.0   \n",
      "2  0.000000  0.0  0.000000  0.00000  0.00000  0.000000    0.0  0.271154  0.0   \n",
      "3  0.000000  0.0  0.000000  0.00000  0.00000  0.000000    0.0  0.000000  0.0   \n",
      "4  0.000000  0.0  0.000000  0.33719  0.12265  0.044166    0.0  0.000000  0.0   \n",
      "\n",
      "     applic  ...      view  void   wa      want  way  web  whi    window  \\\n",
      "0  0.000000  ...  0.000000   0.0  0.0  0.000000  0.0  0.0  0.0  0.000000   \n",
      "1  0.000000  ...  0.000000   0.0  0.0  0.074416  0.0  0.0  0.0  0.371078   \n",
      "2  0.000000  ...  0.563637   0.0  0.0  0.000000  0.0  0.0  0.0  0.000000   \n",
      "3  0.181525  ...  0.000000   0.0  0.0  0.000000  0.0  0.0  0.0  0.000000   \n",
      "4  0.000000  ...  0.000000   0.0  0.0  0.167940  0.0  0.0  0.0  0.000000   \n",
      "\n",
      "       work  write  \n",
      "0  0.000000    0.0  \n",
      "1  0.216495    0.0  \n",
      "2  0.000000    0.0  \n",
      "3  0.000000    0.0  \n",
      "4  0.040715    0.0  \n",
      "\n",
      "[5 rows x 200 columns]\n"
     ]
    }
   ],
   "source": [
    "tfidf_question= vectorizer.fit_transform(df_merged['Q_Body'])\n",
    "\n",
    "# Create a DataFrame with these features\n",
    "tv_df_question = pd.DataFrame(tfidf_question.toarray(), \n",
    "                     columns=vectorizer.get_feature_names())\n",
    "\n",
    "print(tv_df_question.head())"
   ]
  },
  {
   "cell_type": "code",
   "execution_count": 31,
   "id": "558adea1",
   "metadata": {},
   "outputs": [
    {
     "name": "stdout",
     "output_type": "stream",
     "text": [
      "make       0.503326\n",
      "code       0.389386\n",
      "databas    0.321533\n",
      "think      0.319718\n",
      "idea       0.318798\n",
      "Name: 0, dtype: float64\n"
     ]
    }
   ],
   "source": [
    "sample_row = tv_df_question.iloc[0]\n",
    "\n",
    "# Print the top 5 words of the sorted output\n",
    "print(sample_row.sort_values(ascending=False).head())"
   ]
  },
  {
   "cell_type": "code",
   "execution_count": 32,
   "id": "c1f9c9c4",
   "metadata": {},
   "outputs": [],
   "source": [
    "df_final = pd.concat([tv_df_question, df_merged], axis = 1, sort=False)"
   ]
  },
  {
   "cell_type": "code",
   "execution_count": 33,
   "id": "0954156c",
   "metadata": {},
   "outputs": [
    {
     "data": {
      "text/html": [
       "<div>\n",
       "<style scoped>\n",
       "    .dataframe tbody tr th:only-of-type {\n",
       "        vertical-align: middle;\n",
       "    }\n",
       "\n",
       "    .dataframe tbody tr th {\n",
       "        vertical-align: top;\n",
       "    }\n",
       "\n",
       "    .dataframe thead th {\n",
       "        text-align: right;\n",
       "    }\n",
       "</style>\n",
       "<table border=\"1\" class=\"dataframe\">\n",
       "  <thead>\n",
       "    <tr style=\"text-align: right;\">\n",
       "      <th></th>\n",
       "      <th>10</th>\n",
       "      <th>abl</th>\n",
       "      <th>access</th>\n",
       "      <th>ad</th>\n",
       "      <th>add</th>\n",
       "      <th>ani</th>\n",
       "      <th>anoth</th>\n",
       "      <th>anyon</th>\n",
       "      <th>app</th>\n",
       "      <th>applic</th>\n",
       "      <th>...</th>\n",
       "      <th>window</th>\n",
       "      <th>work</th>\n",
       "      <th>write</th>\n",
       "      <th>Q_Body</th>\n",
       "      <th>CreationYear</th>\n",
       "      <th>Tag1</th>\n",
       "      <th>Tag2</th>\n",
       "      <th>Tag3</th>\n",
       "      <th>Tag4</th>\n",
       "      <th>Tag5</th>\n",
       "    </tr>\n",
       "  </thead>\n",
       "  <tbody>\n",
       "    <tr>\n",
       "      <th>0</th>\n",
       "      <td>0.000000</td>\n",
       "      <td>0.0</td>\n",
       "      <td>0.000000</td>\n",
       "      <td>0.0</td>\n",
       "      <td>0.0</td>\n",
       "      <td>0.0</td>\n",
       "      <td>0.0</td>\n",
       "      <td>0.0</td>\n",
       "      <td>0.0</td>\n",
       "      <td>0.0</td>\n",
       "      <td>...</td>\n",
       "      <td>0.000000</td>\n",
       "      <td>0.000000</td>\n",
       "      <td>0.0</td>\n",
       "      <td>pim wonder if it a good idea to make in strong...</td>\n",
       "      <td>2008.0</td>\n",
       "      <td>optimization</td>\n",
       "      <td>setter</td>\n",
       "      <td>getter</td>\n",
       "      <td>verification</td>\n",
       "      <td>0</td>\n",
       "    </tr>\n",
       "    <tr>\n",
       "      <th>1</th>\n",
       "      <td>0.131992</td>\n",
       "      <td>0.0</td>\n",
       "      <td>0.122329</td>\n",
       "      <td>0.0</td>\n",
       "      <td>0.0</td>\n",
       "      <td>0.0</td>\n",
       "      <td>0.0</td>\n",
       "      <td>0.0</td>\n",
       "      <td>0.0</td>\n",
       "      <td>0.0</td>\n",
       "      <td>...</td>\n",
       "      <td>0.371078</td>\n",
       "      <td>0.216495</td>\n",
       "      <td>0.0</td>\n",
       "      <td>NaN</td>\n",
       "      <td>NaN</td>\n",
       "      <td>NaN</td>\n",
       "      <td>NaN</td>\n",
       "      <td>NaN</td>\n",
       "      <td>NaN</td>\n",
       "      <td>NaN</td>\n",
       "    </tr>\n",
       "  </tbody>\n",
       "</table>\n",
       "<p>2 rows × 207 columns</p>\n",
       "</div>"
      ],
      "text/plain": [
       "         10  abl    access   ad  add  ani  anoth  anyon  app  applic  ...  \\\n",
       "0  0.000000  0.0  0.000000  0.0  0.0  0.0    0.0    0.0  0.0     0.0  ...   \n",
       "1  0.131992  0.0  0.122329  0.0  0.0  0.0    0.0    0.0  0.0     0.0  ...   \n",
       "\n",
       "     window      work  write  \\\n",
       "0  0.000000  0.000000    0.0   \n",
       "1  0.371078  0.216495    0.0   \n",
       "\n",
       "                                              Q_Body  CreationYear  \\\n",
       "0  pim wonder if it a good idea to make in strong...        2008.0   \n",
       "1                                                NaN           NaN   \n",
       "\n",
       "           Tag1     Tag2     Tag3           Tag4  Tag5  \n",
       "0  optimization   setter   getter   verification     0  \n",
       "1           NaN      NaN      NaN            NaN   NaN  \n",
       "\n",
       "[2 rows x 207 columns]"
      ]
     },
     "execution_count": 33,
     "metadata": {},
     "output_type": "execute_result"
    }
   ],
   "source": [
    "df_final.head(2)"
   ]
  },
  {
   "cell_type": "code",
   "execution_count": 34,
   "id": "539c54d9",
   "metadata": {},
   "outputs": [
    {
     "name": "stdout",
     "output_type": "stream",
     "text": [
      "841859          10  abl    access       ad      add       ani  anoth     anyon  app  \\\n",
      "0  0.000000  0.0  0.000000  0.00000  0.00000  0.000000    0.0  0.000000  0.0   \n",
      "1  0.131992  0.0  0.122329  0.00000  0.00000  0.000000    0.0  0.000000  0.0   \n",
      "2  0.000000  0.0  0.000000  0.00000  0.00000  0.000000    0.0  0.271154  0.0   \n",
      "3  0.000000  0.0  0.000000  0.00000  0.00000  0.000000    0.0  0.000000  0.0   \n",
      "4  0.000000  0.0  0.000000  0.33719  0.12265  0.044166    0.0  0.000000  0.0   \n",
      "\n",
      "     applic  ...  whi    window      work  write  CreationYear          Tag1  \\\n",
      "0  0.000000  ...  0.0  0.000000  0.000000    0.0        2008.0  optimization   \n",
      "1  0.000000  ...  0.0  0.371078  0.216495    0.0           NaN           NaN   \n",
      "2  0.000000  ...  0.0  0.000000  0.000000    0.0           NaN           NaN   \n",
      "3  0.181525  ...  0.0  0.000000  0.000000    0.0           NaN           NaN   \n",
      "4  0.000000  ...  0.0  0.000000  0.040715    0.0           NaN           NaN   \n",
      "\n",
      "      Tag2     Tag3           Tag4  Tag5  \n",
      "0   setter   getter   verification     0  \n",
      "1      NaN      NaN            NaN   NaN  \n",
      "2      NaN      NaN            NaN   NaN  \n",
      "3      NaN      NaN            NaN   NaN  \n",
      "4      NaN      NaN            NaN   NaN  \n",
      "\n",
      "[5 rows x 206 columns]\n"
     ]
    }
   ],
   "source": [
    "df_final = df_final.drop(columns={'Q_Body'})\n",
    "print(df_final.shape[0], df_final.head())"
   ]
  },
  {
   "cell_type": "code",
   "execution_count": 35,
   "id": "5d7aadb3",
   "metadata": {},
   "outputs": [
    {
     "name": "stdout",
     "output_type": "stream",
     "text": [
      "181175      10  abl  access   ad       add  ani  anoth  anyon  app    applic  ...  \\\n",
      "0   0.0  0.0     0.0  0.0  0.000000  0.0    0.0    0.0  0.0  0.000000  ...   \n",
      "7   0.0  0.0     0.0  0.0  0.133755  0.0    0.0    0.0  0.0  0.000000  ...   \n",
      "9   0.0  0.0     0.0  0.0  0.000000  0.0    0.0    0.0  0.0  0.227790  ...   \n",
      "13  0.0  0.0     0.0  0.0  0.000000  0.0    0.0    0.0  0.0  0.000000  ...   \n",
      "18  0.0  0.0     0.0  0.0  0.205880  0.0    0.0    0.0  0.0  0.197095  ...   \n",
      "\n",
      "    whi    window  work     write  CreationYear          Tag1  \\\n",
      "0   0.0  0.000000   0.0  0.000000        2008.0  optimization   \n",
      "7   0.0  0.000000   0.0  0.000000        2008.0       windows   \n",
      "9   0.0  0.000000   0.0  0.516278        2008.0           sql   \n",
      "13  0.0  0.732612   0.0  0.000000        2008.0       asp.net   \n",
      "18  0.0  0.000000   0.0  0.000000        2008.0        vb.net   \n",
      "\n",
      "                     Tag2               Tag3           Tag4  Tag5  \n",
      "0                  setter             getter   verification     0  \n",
      "7                   64bit                wmi              0     0  \n",
      "9              sql-server           database        diagram     0  \n",
      "13   business-logic-layer   objectdatasource              0     0  \n",
      "18                   date                  0              0     0  \n",
      "\n",
      "[5 rows x 206 columns]\n"
     ]
    }
   ],
   "source": [
    "df_final = df_final.dropna()\n",
    "print(df_final.shape[0], df_final.head())"
   ]
  },
  {
   "cell_type": "code",
   "execution_count": 36,
   "id": "39b1b9ab",
   "metadata": {},
   "outputs": [
    {
     "data": {
      "text/plain": [
       "10        float64\n",
       "abl       float64\n",
       "access    float64\n",
       "ad        float64\n",
       "add       float64\n",
       "           ...   \n",
       "Tag1       object\n",
       "Tag2       object\n",
       "Tag3       object\n",
       "Tag4       object\n",
       "Tag5       object\n",
       "Length: 206, dtype: object"
      ]
     },
     "execution_count": 36,
     "metadata": {},
     "output_type": "execute_result"
    }
   ],
   "source": [
    "df_final.dtypes"
   ]
  },
  {
   "cell_type": "markdown",
   "id": "c9fe3a3a",
   "metadata": {},
   "source": [
    "__4. Convert categorical variables into numeric variables__"
   ]
  },
  {
   "cell_type": "code",
   "execution_count": 37,
   "id": "0b024212",
   "metadata": {},
   "outputs": [
    {
     "name": "stdout",
     "output_type": "stream",
     "text": [
      "c#            18329\n",
      "java          15613\n",
      "php           12675\n",
      "javascript    10157\n",
      "c++            7669\n",
      "Name: Tag1, dtype: int64  jquery     3773\n",
      " .net       3704\n",
      " asp.net    2722\n",
      "0           2598\n",
      " html       2441\n",
      "Name: Tag2, dtype: int64 0        30226\n",
      " html      965\n",
      " ios       827\n",
      " ajax      728\n",
      " css       683\n",
      "Name: Tag3, dtype: int64 0        93773\n",
      " json      205\n",
      " ajax      186\n",
      " ipad      169\n",
      " css       165\n",
      "Name: Tag4, dtype: int64 0                  148183\n",
      " cordova               41\n",
      " post                  35\n",
      " css3                  35\n",
      " drop-down-menu        35\n",
      "Name: Tag5, dtype: int64\n"
     ]
    }
   ],
   "source": [
    "print(df_final['Tag1'].value_counts().head(5), df_final['Tag2'].value_counts().head(5), \n",
    "      df_final['Tag3'].value_counts().head(5), df_final['Tag4'].value_counts().head(5), \n",
    "      df_final['Tag5'].value_counts().head(5))"
   ]
  },
  {
   "cell_type": "code",
   "execution_count": 38,
   "id": "edcc70f8",
   "metadata": {},
   "outputs": [
    {
     "name": "stdout",
     "output_type": "stream",
     "text": [
      "    10  abl  access   ad       add  ani  anoth  anyon  app  applic  ...  whi  \\\n",
      "0  0.0  0.0     0.0  0.0  0.000000  0.0    0.0    0.0  0.0     0.0  ...  0.0   \n",
      "7  0.0  0.0     0.0  0.0  0.133755  0.0    0.0    0.0  0.0     0.0  ...  0.0   \n",
      "\n",
      "   window  work  write  CreationYear   Tag1   Tag2   Tag3   Tag4   Tag5  \n",
      "0     0.0   0.0    0.0        2008.0  False  False  False  False  False  \n",
      "7     0.0   0.0    0.0        2008.0  False  False  False  False  False  \n",
      "\n",
      "[2 rows x 206 columns] 181175\n"
     ]
    }
   ],
   "source": [
    "# Pick top 10 tags and apply one hot encoding on the dataframe to assign true/ false based on top 10 tag being found or not \n",
    "# for every questions across dataframe\n",
    "# drop_first=True is important to use, as it helps in reducing the extra column created during dummy variable creation. \n",
    "# which reduces the correlations created among dummy variables.\n",
    "\n",
    "tags = ['c#','java','php','javascript','c++','.net','asp.net','html','ios','ajax']\n",
    "df_tag = df_final[['Tag1','Tag2','Tag3','Tag4','Tag5']]\n",
    "final_top_10_tags= pd.get_dummies(df_tag.isin(tags), drop_first=True)\n",
    "\n",
    "df_ques = df_final.drop(['Tag1','Tag2','Tag3','Tag4','Tag5'], axis=1)\n",
    "\n",
    "df_final = pd.concat([df_ques, final_top_10_tags], axis=1)\n",
    "print(df_final.head(2), df_final.shape[0])"
   ]
  },
  {
   "cell_type": "code",
   "execution_count": 39,
   "id": "f1619eb2",
   "metadata": {},
   "outputs": [
    {
     "data": {
      "text/html": [
       "<div>\n",
       "<style scoped>\n",
       "    .dataframe tbody tr th:only-of-type {\n",
       "        vertical-align: middle;\n",
       "    }\n",
       "\n",
       "    .dataframe tbody tr th {\n",
       "        vertical-align: top;\n",
       "    }\n",
       "\n",
       "    .dataframe thead th {\n",
       "        text-align: right;\n",
       "    }\n",
       "</style>\n",
       "<table border=\"1\" class=\"dataframe\">\n",
       "  <thead>\n",
       "    <tr style=\"text-align: right;\">\n",
       "      <th></th>\n",
       "      <th>10</th>\n",
       "      <th>abl</th>\n",
       "      <th>access</th>\n",
       "      <th>ad</th>\n",
       "      <th>add</th>\n",
       "      <th>ani</th>\n",
       "      <th>anoth</th>\n",
       "      <th>anyon</th>\n",
       "      <th>app</th>\n",
       "      <th>applic</th>\n",
       "      <th>...</th>\n",
       "      <th>whi</th>\n",
       "      <th>window</th>\n",
       "      <th>work</th>\n",
       "      <th>write</th>\n",
       "      <th>CreationYear</th>\n",
       "      <th>Tag1</th>\n",
       "      <th>Tag2</th>\n",
       "      <th>Tag3</th>\n",
       "      <th>Tag4</th>\n",
       "      <th>Tag5</th>\n",
       "    </tr>\n",
       "  </thead>\n",
       "  <tbody>\n",
       "    <tr>\n",
       "      <th>335294</th>\n",
       "      <td>0.0</td>\n",
       "      <td>0.0</td>\n",
       "      <td>0.0</td>\n",
       "      <td>0.0</td>\n",
       "      <td>0.0</td>\n",
       "      <td>0.0</td>\n",
       "      <td>0.0</td>\n",
       "      <td>0.0</td>\n",
       "      <td>0.0</td>\n",
       "      <td>0.0</td>\n",
       "      <td>...</td>\n",
       "      <td>0.0</td>\n",
       "      <td>0.0</td>\n",
       "      <td>0.0</td>\n",
       "      <td>0.0</td>\n",
       "      <td>2012.0</td>\n",
       "      <td>1</td>\n",
       "      <td>0</td>\n",
       "      <td>0</td>\n",
       "      <td>0</td>\n",
       "      <td>0</td>\n",
       "    </tr>\n",
       "    <tr>\n",
       "      <th>357999</th>\n",
       "      <td>0.0</td>\n",
       "      <td>0.0</td>\n",
       "      <td>0.0</td>\n",
       "      <td>0.0</td>\n",
       "      <td>0.0</td>\n",
       "      <td>0.0</td>\n",
       "      <td>0.0</td>\n",
       "      <td>0.0</td>\n",
       "      <td>0.0</td>\n",
       "      <td>0.0</td>\n",
       "      <td>...</td>\n",
       "      <td>0.0</td>\n",
       "      <td>0.0</td>\n",
       "      <td>0.0</td>\n",
       "      <td>0.0</td>\n",
       "      <td>2012.0</td>\n",
       "      <td>1</td>\n",
       "      <td>0</td>\n",
       "      <td>0</td>\n",
       "      <td>0</td>\n",
       "      <td>0</td>\n",
       "    </tr>\n",
       "  </tbody>\n",
       "</table>\n",
       "<p>2 rows × 206 columns</p>\n",
       "</div>"
      ],
      "text/plain": [
       "         10  abl  access   ad  add  ani  anoth  anyon  app  applic  ...  whi  \\\n",
       "335294  0.0  0.0     0.0  0.0  0.0  0.0    0.0    0.0  0.0     0.0  ...  0.0   \n",
       "357999  0.0  0.0     0.0  0.0  0.0  0.0    0.0    0.0  0.0     0.0  ...  0.0   \n",
       "\n",
       "        window  work  write  CreationYear  Tag1  Tag2  Tag3  Tag4  Tag5  \n",
       "335294     0.0   0.0    0.0        2012.0     1     0     0     0     0  \n",
       "357999     0.0   0.0    0.0        2012.0     1     0     0     0     0  \n",
       "\n",
       "[2 rows x 206 columns]"
      ]
     },
     "execution_count": 39,
     "metadata": {},
     "output_type": "execute_result"
    }
   ],
   "source": [
    "df_final[['Tag1','Tag2','Tag3','Tag4','Tag5']] *= 1\n",
    "df_final.sample(2)"
   ]
  },
  {
   "cell_type": "markdown",
   "id": "cfd4f7b2",
   "metadata": {},
   "source": [
    "__5. Training data development and Feature Selection__"
   ]
  },
  {
   "cell_type": "code",
   "execution_count": 40,
   "id": "71623823",
   "metadata": {},
   "outputs": [],
   "source": [
    "from sklearn.model_selection import train_test_split\n",
    "\n",
    "train_question_df, test_question_df = train_test_split(df_final, test_size=0.3)"
   ]
  },
  {
   "cell_type": "code",
   "execution_count": 41,
   "id": "d6726bc6",
   "metadata": {},
   "outputs": [
    {
     "name": "stdout",
     "output_type": "stream",
     "text": [
      "126822 54353\n"
     ]
    }
   ],
   "source": [
    "print(train_question_df.shape[0], test_question_df.shape[0])"
   ]
  },
  {
   "cell_type": "code",
   "execution_count": 42,
   "id": "a208365b",
   "metadata": {},
   "outputs": [
    {
     "name": "stdout",
     "output_type": "stream",
     "text": [
      "         10  abl  access   ad  add  ani  anoth  anyon  app  applic  ...  view  \\\n",
      "378891  0.0  0.0     0.0  0.0  0.0  0.0    0.0    0.0  0.0     0.0  ...   0.0   \n",
      "133330  0.0  0.0     0.0  0.0  0.0  0.0    0.0    0.0  0.0     0.0  ...   0.0   \n",
      "\n",
      "        void   wa  want  way  web  whi  window  work  write  \n",
      "378891   0.0  0.0   0.0  0.0  0.0  0.0     0.0   0.0    0.0  \n",
      "133330   0.0  0.0   0.0  0.0  0.0  0.0     0.0   0.0    0.0  \n",
      "\n",
      "[2 rows x 200 columns]         Tag1  Tag2  Tag3  Tag4  Tag5\n",
      "378891     1     0     0     0     0\n",
      "133330     1     0     0     0     0\n"
     ]
    }
   ],
   "source": [
    "X = train_question_df.loc[:, '10':'write']\n",
    "y = train_question_df.loc[:, 'Tag1':'Tag5']\n",
    "print(X.head(2), y.head(2))"
   ]
  },
  {
   "cell_type": "code",
   "execution_count": 43,
   "id": "5f4dba98",
   "metadata": {},
   "outputs": [],
   "source": [
    "X_train, X_test, y_train, y_test = train_test_split(X, y, test_size =0.3, random_state=42)"
   ]
  },
  {
   "cell_type": "markdown",
   "id": "a4f0171a",
   "metadata": {},
   "source": [
    "# Modeling"
   ]
  },
  {
   "cell_type": "markdown",
   "id": "2bf21a33",
   "metadata": {},
   "source": [
    "Perform multi label classification modeling on the df_final dataframe that has Q_Body and Tag columns in order to determine what tag will be classified for a given question based on the body of question posted on StackOverflow\n",
    "\n",
    "### Multi-Label Classification Techniques\n",
    "- To solve multi-label classification problem, we can decompose it into multiple independent binary classification problems (one per category) using “one-to-rest” strategy, where we will build multiple independent classifiers and, for an unseen instance, choose the class for which the confidence is maximized.\n",
    "- Main Assumption: The labels are mutually exclusive."
   ]
  },
  {
   "cell_type": "markdown",
   "id": "f89263aa",
   "metadata": {},
   "source": [
    "__1. Import all ML libraries__"
   ]
  },
  {
   "cell_type": "code",
   "execution_count": 44,
   "id": "5e66ec7f",
   "metadata": {},
   "outputs": [],
   "source": [
    "#Import models:\n",
    "import time\n",
    "from sklearn import tree,metrics\n",
    "from sklearn.pipeline import Pipeline\n",
    "from sklearn.preprocessing import StandardScaler\n",
    "from sklearn.metrics import *\n",
    "from sklearn.model_selection import *\n",
    "from sklearn.linear_model import *\n",
    "from sklearn.neural_network import *\n",
    "from sklearn.neighbors import *\n",
    "from sklearn.tree import *\n",
    "from sklearn.ensemble import *\n",
    "from sklearn.multiclass import OneVsRestClassifier\n",
    "from sklearn.dummy import DummyClassifier\n",
    "from tensorflow.keras.models import Sequential\n",
    "from tensorflow.keras.layers import Dense, Dropout, Activation\n",
    "from tensorflow.keras.optimizers import SGD\n",
    "from sklearn.metrics import multilabel_confusion_matrix\n",
    "from sklearn.preprocessing import MultiLabelBinarizer"
   ]
  },
  {
   "cell_type": "markdown",
   "id": "3cac6378",
   "metadata": {},
   "source": [
    "__2. Apply Deep learning applied model using keras__"
   ]
  },
  {
   "cell_type": "code",
   "execution_count": 45,
   "id": "51a6799d",
   "metadata": {},
   "outputs": [],
   "source": [
    "def avg_jaccard(y_true,y_pred):\n",
    "    '''\n",
    "    see https://en.wikipedia.org/wiki/Multi-label_classification#Statistics_and_evaluation_metrics\n",
    "    '''\n",
    "    jaccard = np.minimum(y_true,y_pred).sum(axis=1) / np.maximum(y_true,y_pred).sum(axis=1)\n",
    "    \n",
    "    return jaccard.mean()*100\n",
    "\n",
    "def print_score(y_pred, clf):\n",
    "    print(\"Clf: \", clf.__class__.__name__)\n",
    "    print(\"Jaccard score: {}\".format(avg_jaccard(y_test, y_pred)))\n",
    "    print(\"Hamming loss: {}\".format(hamming_loss(y_pred, y_test)*100))\n",
    "    print(\"---\")"
   ]
  },
  {
   "cell_type": "code",
   "execution_count": 46,
   "id": "f7bebc24",
   "metadata": {},
   "outputs": [
    {
     "name": "stdout",
     "output_type": "stream",
     "text": [
      "====Sigmoid Activation  Model====\n",
      "Epoch 1/5\n",
      "45/45 [==============================] - 10s 216ms/step - loss: 0.5754\n",
      "Epoch 2/5\n",
      "45/45 [==============================] - 10s 215ms/step - loss: 0.2954\n",
      "Epoch 3/5\n",
      "45/45 [==============================] - 10s 222ms/step - loss: 0.1770\n",
      "Epoch 4/5\n",
      "45/45 [==============================] - 10s 221ms/step - loss: 0.1527\n",
      "Epoch 5/5\n",
      "45/45 [==============================] - 10s 222ms/step - loss: 0.1457\n",
      "====Sigmoid Activation  Model====\n",
      "Jaccard score: 17.209186680780892\n"
     ]
    }
   ],
   "source": [
    "model = Sequential()\n",
    "model.add(Dense(5000, activation='relu', input_dim=X_train.shape[1]))\n",
    "model.add(Dropout(0.1))\n",
    "model.add(Dense(600, activation='relu'))\n",
    "model.add(Dropout(0.1))\n",
    "model.add(Dense(y_train.shape[1], activation='sigmoid'))\n",
    "\n",
    "print('=====Sigmoid Activation  Model=====')\n",
    "sgd = SGD(lr=0.01, decay=1e-6, momentum=0.9, nesterov=True)\n",
    "model.compile(loss='binary_crossentropy', optimizer=sgd)\n",
    "\n",
    "model.fit(X_train, y_train, epochs=5, batch_size=2000)\n",
    "\n",
    "y_pred = model.predict(X_test)\n",
    "np.argmax(y_pred, axis=1)\n",
    "# score = compare preds and y_test\n",
    "print('=====Sigmoid Activation  Model=====')\n",
    "print(\"Jaccard score: {}\".format(avg_jaccard(y_test, y_pred)))"
   ]
  },
  {
   "cell_type": "markdown",
   "id": "9b0bdbde",
   "metadata": {},
   "source": [
    "__3. Apply other multi label classification models__"
   ]
  },
  {
   "cell_type": "markdown",
   "id": "5fbcd3ed",
   "metadata": {},
   "source": [
    "Some of the multi-label classification models are:\n",
    "- tree.DecisionTreeClassifier\n",
    "- tree.ExtraTreeClassifier\n",
    "- ensemble.ExtraTreesClassifier\n",
    "- neighbors.KNeighborsClassifier\n",
    "- neural_network.MLPClassifier\n",
    "- neighbors.RadiusNeighborsClassifier\n",
    "- ensemble.RandomForestClassifier\n",
    "- linear_model.RidgeClassifierCV"
   ]
  },
  {
   "cell_type": "code",
   "execution_count": 47,
   "id": "f4025ac7",
   "metadata": {},
   "outputs": [
    {
     "name": "stdout",
     "output_type": "stream",
     "text": [
      "DecisionTreeClassifier() Classifier\n",
      "Clf:  OneVsRestClassifier\n",
      "Jaccard score: 27.03508909647539\n",
      "Hamming loss: 9.772123951954162\n",
      "---\n",
      "KNeighborsClassifier() Classifier\n",
      "Clf:  OneVsRestClassifier\n",
      "Jaccard score: 24.000334616028105\n",
      "Hamming loss: 9.551344389833627\n",
      "---\n",
      "MLPClassifier() Classifier\n",
      "Clf:  OneVsRestClassifier\n",
      "Jaccard score: 24.49668524016757\n",
      "Hamming loss: 9.758456645727652\n",
      "---\n",
      "LogisticRegression() Classifier\n",
      "Clf:  OneVsRestClassifier\n",
      "Jaccard score: 0.05601194921583271\n",
      "Hamming loss: 8.44166425736589\n",
      "---\n",
      "RandomForestClassifier() Classifier\n",
      "Clf:  OneVsRestClassifier\n",
      "Jaccard score: 8.797956743832192\n",
      "Hamming loss: 8.822246169211764\n",
      "---\n",
      "ExtraTreeClassifier() Classifier\n",
      "Clf:  OneVsRestClassifier\n",
      "Jaccard score: 27.546250834675362\n",
      "Hamming loss: 9.696428102084266\n",
      "---\n"
     ]
    }
   ],
   "source": [
    "import warnings\n",
    "import sklearn\n",
    "warnings.simplefilter('ignore')\n",
    "from sklearn import *\n",
    "\n",
    "for classifier in [tree.DecisionTreeClassifier(),\n",
    "                   KNeighborsClassifier(),\n",
    "                   MLPClassifier(),\n",
    "                   #multioutput.MultiOutputClassifier(linear_model.LogisticRegression()),\n",
    "                   #multiclass.OneVsRestClassifier(linear_model.LogisticRegression()),\n",
    "                   LogisticRegression(),\n",
    "                   RandomForestClassifier(),\n",
    "                   ExtraTreeClassifier()]:\n",
    "    clf = OneVsRestClassifier(classifier)\n",
    "    clf.fit(X_train, y_train)\n",
    "    y_pred = clf.predict(X_test)\n",
    "    y_pred[y_pred>=0.5] = 1\n",
    "    y_pred[y_pred<0.5] = 0\n",
    "    print(\"{} Classifier\".format(classifier))\n",
    "    print_score(y_pred, clf)"
   ]
  },
  {
   "cell_type": "code",
   "execution_count": 48,
   "id": "2ad226dc",
   "metadata": {},
   "outputs": [
    {
     "name": "stdout",
     "output_type": "stream",
     "text": [
      "ExtraTreeClassifier() Classifier\n",
      "Clf:  OneVsRestClassifier\n",
      "Jaccard score: 0.03733897566743419\n",
      "Hamming loss: 8.443766919862275\n",
      "---\n"
     ]
    }
   ],
   "source": [
    "gb_model = OneVsRestClassifier(GradientBoostingClassifier(n_estimators=70, max_depth=3, learning_rate=.02))\n",
    "gb_model.fit(X_train, y_train)\n",
    "y_pred_gb = gb_model.predict(X_test)\n",
    "y_pred_gb[y_pred_gb>=0.5] = 1\n",
    "y_pred_gb[y_pred_gb<0.5] = 0\n",
    "print(\"{} Classifier\".format(classifier))\n",
    "print_score(y_pred_gb, clf)"
   ]
  },
  {
   "cell_type": "markdown",
   "id": "80c904cc",
   "metadata": {},
   "source": [
    "- Seems like OnevsRestClassifier applied on ExtraTreeClassifier() classifier model performs best followed by DecisionTreeClassifier() and MLPClassifier() models, so we will perform hyperparameter tuning using GridSearchCV() on the ExtraTreeClasifier() and MLPClassifier()\n",
    "- LogisticRegression and GradientBoostingClassifer are the worst and shouldn't be even considered\n",
    "- We can keep DecisionTreeClassifier() out of the scope since Decision tree model is more susceptible to overfitting and performance erosion as number of trees increase, we will perform GridSearchCV and hyperparameter tuning on the other 2 models.\n",
    "\n",
    "__4(a) GridSearch CV on OnevsRestClassifer (MLPClassifier())__"
   ]
  },
  {
   "cell_type": "code",
   "execution_count": 49,
   "id": "a6219dcd",
   "metadata": {},
   "outputs": [
    {
     "name": "stdout",
     "output_type": "stream",
     "text": [
      "Pipeline(steps=[('scale', StandardScaler(with_mean=False)),\n",
      "                ('clf',\n",
      "                 OneVsRestClassifier(estimator=MLPClassifier(activation='tanh',\n",
      "                                                             alpha=1.0,\n",
      "                                                             early_stopping=True,\n",
      "                                                             hidden_layer_sizes=(50,),\n",
      "                                                             learning_rate='adaptive',\n",
      "                                                             max_iter=1000,\n",
      "                                                             random_state=9000,\n",
      "                                                             solver='sgd')))])\n",
      "{'clf__estimator__activation': 'tanh', 'clf__estimator__alpha': 1.0, 'clf__estimator__hidden_layer_sizes': (50,), 'clf__estimator__max_iter': 1000}\n",
      "1.1956963338355113\n"
     ]
    }
   ],
   "source": [
    "model_mlp = Pipeline([('scale',StandardScaler(with_mean=False)),\n",
    "                     ('clf',OneVsRestClassifier(MLPClassifier(learning_rate = 'adaptive', \n",
    "                                                              solver = 'sgd', \n",
    "                                                              early_stopping = True, \n",
    "                                                              random_state=9000)))])\n",
    "\n",
    "parameters = {'clf__estimator__alpha':[10.0 ** ~ np.arange(1,7).any()],\n",
    "    'clf__estimator__hidden_layer_sizes': [(100,),(50,)],\n",
    "    'clf__estimator__max_iter': [1000,500],\n",
    "    'clf__estimator__activation':('relu','tanh')}\n",
    "\n",
    "gs_cv_model_mlp = GridSearchCV(model_mlp, parameters, cv=3, n_jobs=-1, scoring=make_scorer(avg_jaccard,greater_is_better=True)) \n",
    "\n",
    "gs_cv_model_mlp.fit(X_train, y_train)\n",
    "\n",
    "print(gs_cv_model_mlp.best_estimator_) \n",
    "print(gs_cv_model_mlp.best_params_) \n",
    "print(gs_cv_model_mlp.best_score_)"
   ]
  },
  {
   "cell_type": "code",
   "execution_count": 50,
   "id": "1e37b917",
   "metadata": {},
   "outputs": [
    {
     "name": "stdout",
     "output_type": "stream",
     "text": [
      "====Hyperparameter tuned MLP Classifier model====\n",
      "Training time is: 55.17009711265564\n",
      "Prediction time is: 0.16891837120056152\n",
      "Jaccard score: 0.3467706978760295\n",
      "Hamming loss: 8.459536888585172\n",
      "F1 score: 0.006911447084233261\n",
      "Precision score: 0.373\n",
      "Accuracy: 0.577\n"
     ]
    }
   ],
   "source": [
    "mlp_final = Pipeline(steps=[('scale', StandardScaler(with_mean=False)),\n",
    "                ('clf',\n",
    "                 OneVsRestClassifier(estimator=MLPClassifier(activation='tanh',\n",
    "                                                             alpha=1.0,\n",
    "                                                             early_stopping=True,\n",
    "                                                             learning_rate='adaptive',\n",
    "                                                             max_iter=1000,\n",
    "                                                             random_state=9000,\n",
    "                                                             solver='sgd')))])\n",
    "\n",
    "start_train = time.time()\n",
    "mlp_final.fit(X_train, y_train)  \n",
    "end_train = time.time()\n",
    "training_time_mlp_final = (end_train - start_train)\n",
    "\n",
    "start_predict = time.time()\n",
    "y_predictions_mlp_final = mlp_final.predict(X_test)\n",
    "end_predict = time.time()\n",
    "prediction_time_mlp_final = (end_predict - start_predict)\n",
    "\n",
    "print('====Hyperparameter tuned MLP Classifier model====')\n",
    "print('Training time is:', training_time_mlp_final)\n",
    "print('Prediction time is:', prediction_time_mlp_final)\n",
    "print(\"Jaccard score: {}\".format(avg_jaccard(y_test, y_predictions_mlp_final)))\n",
    "print(\"Hamming loss: {}\".format(hamming_loss(y_predictions_mlp_final, y_test)*100))\n",
    "print('F1 score:', f1_score(y_test,y_predictions_mlp_final, average = 'weighted'))\n",
    "print('Precision score:' , round(metrics.precision_score(y_test,y_predictions_mlp_final, average='weighted'),3))\n",
    "print('Accuracy:', round(metrics.accuracy_score(y_test,y_predictions_mlp_final),3))"
   ]
  },
  {
   "cell_type": "markdown",
   "id": "003267a6",
   "metadata": {},
   "source": [
    "__4(b) GridSearch CV on OnevsRestClassifer (ExtraTreeClassifer())__"
   ]
  },
  {
   "cell_type": "code",
   "execution_count": 51,
   "id": "c98fa921",
   "metadata": {},
   "outputs": [
    {
     "name": "stdout",
     "output_type": "stream",
     "text": [
      "Pipeline(steps=[('scale', StandardScaler(with_mean=False)),\n",
      "                ('clf',\n",
      "                 OneVsRestClassifier(estimator=ExtraTreesClassifier(criterion='entropy',\n",
      "                                                                    max_features=100,\n",
      "                                                                    min_samples_leaf=5,\n",
      "                                                                    min_samples_split=5)))])\n",
      "{'clf__estimator__criterion': 'entropy', 'clf__estimator__max_features': 100}\n",
      "8.005755845322774\n"
     ]
    }
   ],
   "source": [
    "model_etc = Pipeline([('scale',StandardScaler(with_mean=False)),\n",
    "                     ('clf',OneVsRestClassifier(ensemble.ExtraTreesClassifier(n_estimators=100,\n",
    "                                                                    min_samples_split= 5,\n",
    "                                                                    min_samples_leaf= 5)))])\n",
    "\n",
    "parameters = {'clf__estimator__max_features': [50,100],\n",
    "    'clf__estimator__criterion':['gini','entropy']}\n",
    "\n",
    "gs_cv_model_etc = GridSearchCV(model_etc, parameters, cv=3, n_jobs=-1, scoring=make_scorer(avg_jaccard,greater_is_better=True)) \n",
    "\n",
    "gs_cv_model_etc.fit(X_train, y_train)\n",
    "\n",
    "print(gs_cv_model_etc.best_estimator_) \n",
    "print(gs_cv_model_etc.best_params_) \n",
    "print(gs_cv_model_etc.best_score_)"
   ]
  },
  {
   "cell_type": "code",
   "execution_count": 52,
   "id": "1610d4a9",
   "metadata": {},
   "outputs": [
    {
     "name": "stdout",
     "output_type": "stream",
     "text": [
      "====Hyperparameter tuned ExtraTreesClassifier model====\n",
      "Training time is: 174.3207561969757\n",
      "Prediction time is: 2.984321117401123\n",
      "Jaccard score: 0.807595092780963\n",
      "Hamming loss: 8.45795989171288\n",
      "F1 score: 0.016022504892367912\n",
      "Precision score: 0.441\n",
      "Accuracy: 0.577\n"
     ]
    }
   ],
   "source": [
    "etc_final = Pipeline([('scale',StandardScaler(with_mean=False)),\n",
    "                     ('clf',OneVsRestClassifier(ensemble.ExtraTreesClassifier(n_estimators=200,\n",
    "                                                                    min_samples_split= 5,\n",
    "                                                                    criterion='entropy',\n",
    "                                                                    min_samples_leaf= 5)))])\n",
    "\n",
    "start_train = time.time()\n",
    "etc_final.fit(X_train, y_train)  \n",
    "end_train = time.time()\n",
    "training_time_etc_final = (end_train - start_train)\n",
    "\n",
    "start_predict = time.time()\n",
    "y_predictions_etc_final = etc_final.predict(X_test)\n",
    "end_predict = time.time()\n",
    "prediction_time_etc_final = (end_predict - start_predict)\n",
    "\n",
    "print('====Hyperparameter tuned ExtraTreesClassifier model====')\n",
    "print('Training time is:', training_time_etc_final)\n",
    "print('Prediction time is:', prediction_time_etc_final)\n",
    "print(\"Jaccard score: {}\".format(avg_jaccard(y_test, y_predictions_etc_final)))\n",
    "print(\"Hamming loss: {}\".format(hamming_loss(y_predictions_etc_final, y_test)*100))\n",
    "print('F1 score:', f1_score(y_test,y_predictions_etc_final, average = 'weighted'))\n",
    "print('Precision score:' , round(metrics.precision_score(y_test,y_predictions_etc_final, average='weighted'),3))\n",
    "print('Accuracy:', round(metrics.accuracy_score(y_test,y_predictions_etc_final),3))"
   ]
  },
  {
   "cell_type": "markdown",
   "id": "7f2efb33",
   "metadata": {},
   "source": [
    "__5. Make probability prediction for each question having top 10 tag__"
   ]
  },
  {
   "cell_type": "code",
   "execution_count": 53,
   "id": "cdac8ace",
   "metadata": {},
   "outputs": [
    {
     "name": "stdout",
     "output_type": "stream",
     "text": [
      "[[0.47825769 0.         0.         0.         0.        ]\n",
      " [0.45101021 0.         0.         0.         0.        ]\n",
      " [0.44051198 0.         0.         0.         0.        ]\n",
      " ...\n",
      " [0.3900469  0.         0.         0.         0.        ]\n",
      " [0.41234893 0.         0.         0.         0.        ]\n",
      " [0.40438341 0.         0.         0.         0.        ]]\n"
     ]
    }
   ],
   "source": [
    "tag_predict_prob = etc_final.predict_proba(X_test)\n",
    "print(tag_predict_prob)"
   ]
  },
  {
   "cell_type": "markdown",
   "id": "858638db",
   "metadata": {},
   "source": [
    "__We choose 'Accuracy' as the final performance metric.__\n",
    "\n",
    "Accuracy for MLPClassifier() model based on GridSearchCV and hyperparameter tuning applied comes out to 0.577 which is same as  ExtraTreesClassifier(), however since the prediction time is signficantly low for Ensemeble ExtraTreesClassifer() model, we will choose that as the final model"
   ]
  },
  {
   "cell_type": "markdown",
   "id": "94e15fa2",
   "metadata": {},
   "source": [
    "__6. Feature importance and Confusion matrix__"
   ]
  },
  {
   "cell_type": "markdown",
   "id": "a7dac6f6",
   "metadata": {},
   "source": [
    "- Plotting the feature importances is one way that you can gain a perspective on which features are driving the model predictions i.e in this case what unigram (i.e. one word frequency of question title) has maximum probability of having top 10 tag from the list-'c#','java','php','javascript','c++','.net','asp.net','html','ios','ajax'\n",
    "- Creating confusion matrix"
   ]
  },
  {
   "cell_type": "code",
   "execution_count": 55,
   "id": "1c522202",
   "metadata": {},
   "outputs": [
    {
     "data": {
      "text/plain": [
       "ExtraTreesClassifier(criterion='entropy', min_samples_leaf=5,\n",
       "                     min_samples_split=5, n_estimators=200)"
      ]
     },
     "execution_count": 55,
     "metadata": {},
     "output_type": "execute_result"
    }
   ],
   "source": [
    "etc_final[1].estimator.fit(X_train,y_train)"
   ]
  },
  {
   "cell_type": "code",
   "execution_count": 56,
   "id": "65ae7d5c",
   "metadata": {},
   "outputs": [
    {
     "name": "stdout",
     "output_type": "stream",
     "text": [
      "[[21826   166]\n",
      " [15924   131]]\n"
     ]
    }
   ],
   "source": [
    "cm_training = multilabel_confusion_matrix(y_test, y_predictions_etc_final)[0]\n",
    "print(cm_training)"
   ]
  },
  {
   "cell_type": "code",
   "execution_count": 57,
   "id": "e78da183",
   "metadata": {},
   "outputs": [
    {
     "data": {
      "text/plain": [
       "['./models/ExtraTreesClassifierModel_MultiLabelclassification.joblib']"
      ]
     },
     "execution_count": 57,
     "metadata": {},
     "output_type": "execute_result"
    }
   ],
   "source": [
    "import joblib\n",
    "joblib.dump(etc_final,  './models/ExtraTreesClassifierModel_MultiLabelclassification.joblib')"
   ]
  },
  {
   "cell_type": "markdown",
   "id": "d429a473",
   "metadata": {},
   "source": [
    "__7. Test data prediction__"
   ]
  },
  {
   "cell_type": "code",
   "execution_count": 58,
   "id": "cd44f656",
   "metadata": {},
   "outputs": [],
   "source": [
    "loaded_etc = joblib.load('./models/ExtraTreesClassifierModel_MultiLabelclassification.joblib')"
   ]
  },
  {
   "cell_type": "code",
   "execution_count": 59,
   "id": "58ff87c8",
   "metadata": {},
   "outputs": [],
   "source": [
    "X_actual_test = test_question_df.loc[:, '10':'write']\n",
    "y_actual_test = test_question_df.loc[:, 'Tag1':'Tag5']"
   ]
  },
  {
   "cell_type": "code",
   "execution_count": 62,
   "id": "ce21204b",
   "metadata": {},
   "outputs": [
    {
     "name": "stdout",
     "output_type": "stream",
     "text": [
      "====Unseen test dataset-Training and Prediction times====\n",
      "Training time: 87.53176808357239\n",
      "Prediction time: 4.024729490280151\n"
     ]
    }
   ],
   "source": [
    "#Fit final test data set\n",
    "start_train = time.time()\n",
    "loaded_etc.fit(X_actual_test, y_actual_test)\n",
    "end_train = time.time()\n",
    "training_time_etc_test = (end_train - start_train)\n",
    "\n",
    "start_predict = time.time()\n",
    "#Perform prediction\n",
    "y_test_predictions_etc = loaded_etc.predict(X_actual_test)\n",
    "end_predict = time.time()\n",
    "predict_time_etc_test = (end_predict - start_predict)\n",
    "\n",
    "print('====Unseen test dataset-Training and Prediction times====')\n",
    "print('Training time:', training_time_etc_test)\n",
    "print('Prediction time:', predict_time_etc_test)"
   ]
  },
  {
   "cell_type": "code",
   "execution_count": 63,
   "id": "0d3e063b",
   "metadata": {},
   "outputs": [
    {
     "name": "stdout",
     "output_type": "stream",
     "text": [
      "=====Scores of Unseen test data set=====\n",
      "Jaccard score: 89.80507158875281\n",
      "Hamming loss: 0.8698691884532592\n",
      "F1 score: 0.9462873761701355\n",
      "Precision score: 0.999\n",
      "Accuracy: 0.957\n"
     ]
    }
   ],
   "source": [
    "print('=====Scores of Unseen test data set=====')\n",
    "print(\"Jaccard score: {}\".format(avg_jaccard(y_actual_test, y_test_predictions_etc)))\n",
    "print(\"Hamming loss: {}\".format(hamming_loss(y_test_predictions_etc, y_actual_test)*100))\n",
    "print('F1 score:', f1_score(y_actual_test,y_test_predictions_etc, average = 'weighted'))\n",
    "print('Precision score:' , round(metrics.precision_score(y_actual_test,y_test_predictions_etc, average='weighted'),3))\n",
    "print('Accuracy:', round(metrics.accuracy_score(y_actual_test,y_test_predictions_etc),3))"
   ]
  },
  {
   "cell_type": "markdown",
   "id": "07f781f4",
   "metadata": {},
   "source": [
    "__8. Probability prediction for each question having top 10 tags (on unseen test data)__"
   ]
  },
  {
   "cell_type": "code",
   "execution_count": 64,
   "id": "22d2f2b2",
   "metadata": {},
   "outputs": [
    {
     "name": "stdout",
     "output_type": "stream",
     "text": [
      "[[0.50870049 0.         0.         0.         0.        ]\n",
      " [0.51138658 0.         0.         0.         0.        ]\n",
      " [0.53637406 0.         0.         0.         0.        ]\n",
      " ...\n",
      " [0.32607668 0.         0.         0.         0.        ]\n",
      " [0.3459705  0.         0.         0.         0.        ]\n",
      " [0.37769927 0.         0.         0.         0.        ]]\n"
     ]
    }
   ],
   "source": [
    "unseen_tag_predict_prob = loaded_etc.predict_proba(X_actual_test)\n",
    "print(unseen_tag_predict_prob)"
   ]
  },
  {
   "cell_type": "markdown",
   "id": "4407d42c",
   "metadata": {},
   "source": [
    "__9. Confusion Matrix (unseen test data)__"
   ]
  },
  {
   "cell_type": "code",
   "execution_count": 65,
   "id": "c3ea14f4",
   "metadata": {},
   "outputs": [
    {
     "name": "stdout",
     "output_type": "stream",
     "text": [
      "[[31165    20]\n",
      " [ 2344 20824]]\n"
     ]
    }
   ],
   "source": [
    "cm_test = multilabel_confusion_matrix(y_actual_test, y_test_predictions_etc)[0]\n",
    "print(cm_test)"
   ]
  },
  {
   "cell_type": "code",
   "execution_count": 66,
   "id": "ac7cce4e",
   "metadata": {},
   "outputs": [
    {
     "data": {
      "text/plain": [
       "ExtraTreesClassifier(criterion='entropy', min_samples_leaf=5,\n",
       "                     min_samples_split=5, n_estimators=200)"
      ]
     },
     "execution_count": 66,
     "metadata": {},
     "output_type": "execute_result"
    }
   ],
   "source": [
    "loaded_etc[1].estimator.fit(X_actual_test,y_actual_test)"
   ]
  },
  {
   "cell_type": "code",
   "execution_count": 69,
   "id": "e060eb71",
   "metadata": {},
   "outputs": [
    {
     "name": "stdout",
     "output_type": "stream",
     "text": [
      "30\n"
     ]
    },
    {
     "data": {
      "image/png": "[encoded data removed]",
      "text/plain": [
       "<Figure size 1080x1080 with 1 Axes>"
      ]
     },
     "metadata": {
      "needs_background": "light"
     },
     "output_type": "display_data"
    }
   ],
   "source": [
    "feature_importance = loaded_etc[1].estimator.feature_importances_\n",
    "\n",
    "## make importances relative to max importance\n",
    "feature_importance = 100.0 * (feature_importance / feature_importance.max())[:30]\n",
    "sorted_idx = np.argsort(feature_importance)[:30]\n",
    "\n",
    "pos = np.arange(sorted_idx.shape[0]) + .5\n",
    "print(pos.size)\n",
    "sorted_idx.size\n",
    "plt.figure(figsize=(15,15))\n",
    "plt.barh(pos, feature_importance[sorted_idx], align='center')\n",
    "plt.yticks(pos, X_actual_test.columns[sorted_idx])\n",
    "plt.xlabel('Relative Importance', fontsize=10)\n",
    "plt.ylabel('Question Title unigrams indicating top 10 tags', fontsize=15)\n",
    "plt.title('Variable Importance(Test dataset)')\n",
    "plt.savefig(\"./figures/Variables with most significant feature Importance_test dataset.png\")\n",
    "plt.show()"
   ]
  },
  {
   "cell_type": "markdown",
   "id": "8fc05c3a",
   "metadata": {},
   "source": [
    "__Conclusion:__\n",
    "\n",
    "__Prediction on unseen test data:__\n",
    "\n",
    "- The accuracy comes to around 0.95 and Jaccard score - 0.89, f1-weighted score - 0.94 (using cross validation).\n",
    "- Hamming Loss was also 0.869 indicating that there are a very small fraction of wrong labels to the total number of labels in the unseen dataset.\n",
    "- Also, the prediction time is low - less than 5 seconds.\n",
    "- There are very few false positives and false negatives i.e. incorrectly labeled tags.\n",
    "- The model was fit very well and has been able to predict data on unseen test dataset pretty well, indicating that the model performed very well and didn't overfit on the training dataset."
   ]
  }
 ],
 "metadata": {
  "kernelspec": {
   "display_name": "Python 3",
   "language": "python",
   "name": "python3"
  },
  "language_info": {
   "codemirror_mode": {
    "name": "ipython",
    "version": 3
   },
   "file_extension": ".py",
   "mimetype": "text/x-python",
   "name": "python",
   "nbconvert_exporter": "python",
   "pygments_lexer": "ipython3",
   "version": "3.8.8"
  }
 },
 "nbformat": 4,
 "nbformat_minor": 5
}
